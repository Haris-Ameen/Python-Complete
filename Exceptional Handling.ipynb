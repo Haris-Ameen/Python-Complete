{
 "cells": [
  {
   "cell_type": "markdown",
   "metadata": {},
   "source": [
    "# Error Handling or Exceptional Handling"
   ]
  },
  {
   "cell_type": "code",
   "execution_count": 20,
   "metadata": {},
   "outputs": [
    {
     "name": "stdout",
     "output_type": "stream",
     "text": [
      "Enter the first number 32\n",
      "Enter the second number 32\n",
      "32 / 32 = 1.0\n"
     ]
    }
   ],
   "source": [
    "first = input(\"Enter the first number \")\n",
    "\n",
    "second = input(\"Enter the second number \")\n",
    "\n",
    "firstNumber = float(first)\n",
    "\n",
    "secondNumber = float(second)\n",
    "\n",
    "try :\n",
    "    result = firstNumber / secondNumber\n",
    "    print (first + \" / \" + second + \" = \" + str(result))\n",
    "\n",
    "except :\n",
    "    error = sys.exc_info()[0]\n",
    "    print(\"I am sorry something went wrong\")\n",
    "    print(error)"
   ]
  },
  {
   "cell_type": "code",
   "execution_count": 23,
   "metadata": {},
   "outputs": [
    {
     "name": "stdout",
     "output_type": "stream",
     "text": [
      "Enter the first number 32\n",
      "Enter the second number 0\n",
      "0 is not divide so please select true numbers\n"
     ]
    }
   ],
   "source": [
    "first = input(\"Enter the first number \")\n",
    "second = input(\"Enter the second number \")\n",
    "firstNumber = float(first)\n",
    "secondNumber = float(second)\n",
    "\n",
    "try :\n",
    "    result = firstNumber / secondNumber\n",
    "    print (first + \" / \" + second + \" = \" + str(result))\n",
    "\n",
    "except ZeroDivisionError :\n",
    "    print(\"0 is not divide so please select true numbers\")"
   ]
  },
  {
   "cell_type": "code",
   "execution_count": 25,
   "metadata": {},
   "outputs": [
    {
     "name": "stdout",
     "output_type": "stream",
     "text": [
      "Enter the first number 32\n",
      "Enter the second number 0\n",
      "I am sorry something went wrong\n",
      "<class 'ZeroDivisionError'>\n",
      "something went wrong\n"
     ]
    }
   ],
   "source": [
    "import sys\n",
    "\n",
    "first = input(\"Enter the first number \")\n",
    "second = input(\"Enter the second number \")\n",
    "firstNumber = float(first)\n",
    "secondNumber = float(second)\n",
    "\n",
    "try :\n",
    "    result = firstNumber / secondNumber\n",
    "    print (first + \" / \" + second + \" = \" + str(result))\n",
    "\n",
    "except :\n",
    "    error = sys.exc_info()[0]\n",
    "    print(\"I am sorry something went wrong\")\n",
    "    print(error)\n",
    "finally :                                      # Finally will always be Executed\n",
    "    print(\"something went wrong\")"
   ]
  },
  {
   "cell_type": "code",
   "execution_count": 29,
   "metadata": {},
   "outputs": [
    {
     "name": "stdout",
     "output_type": "stream",
     "text": [
      "Enter the first number 13431\n",
      "Enter the second number 0\n",
      "The answer is infinity\n"
     ]
    }
   ],
   "source": [
    "first = input(\"Enter the first number \")\n",
    "second = input(\"Enter the second number \")\n",
    "firstNumber = float(first)\n",
    "secondNumber = float(second)\n",
    "\n",
    "try :\n",
    "    result = firstNumber / secondNumber\n",
    "    print (first + \" / \" + second + \" = \" + str(result))\n",
    "\n",
    "except ZeroDivisionError :\n",
    "    print(\"The answer is infinity\")\n",
    "\n",
    "except :\n",
    "    error = sys.exc_info()[0]\n",
    "    print(\"I am sorry something went wrong\")\n",
    "    print(error)"
   ]
  },
  {
   "cell_type": "code",
   "execution_count": 32,
   "metadata": {},
   "outputs": [
    {
     "name": "stdout",
     "output_type": "stream",
     "text": [
      "Enter the first number 23\n",
      "Enter the second number 42\n",
      "The answer is infinity\n"
     ]
    },
    {
     "ename": "SystemExit",
     "evalue": "",
     "output_type": "error",
     "traceback": [
      "An exception has occurred, use %tb to see the full traceback.\n",
      "\u001b[1;31mSystemExit\u001b[0m\n"
     ]
    }
   ],
   "source": [
    "first = input(\"Enter the first number \")\n",
    "second = input(\"Enter the second number \")\n",
    "try :\n",
    "    result = firstNumber / secondNumber\n",
    "    print (first + \" / \" + second + \" = \" + str(result))\n",
    "\n",
    "except ZeroDivisionError :\n",
    "    print(\"The answer is infinity\")\n",
    "    sys.exit()\n",
    "    print(\"This message only displays if there is no error!\")"
   ]
  },
  {
   "cell_type": "code",
   "execution_count": null,
   "metadata": {},
   "outputs": [],
   "source": [
    "# In Python there are lots of Error we are looking here But we use only 2 basic error\n",
    "# (1) Zero Division Error \n",
    "# (2) File not found Error\n",
    "\n",
    "'''BaseException\n",
    "Exception\n",
    "ArithmeticError\n",
    "AssertionError\n",
    "AttributeError\n",
    "BlockingIOError\n",
    "BrokenPipeError\n",
    "BufferError\n",
    "ChildProcessError\n",
    "ConnectionAbortedError\n",
    "ConnectionError\n",
    "ConnectionRefusedError\n",
    "ConnectionResetError\n",
    "EOFError\n",
    "FileExistsError\n",
    "FileNotFoundError\n",
    "FloatingPointError\n",
    "GeneratorExit\n",
    "ImportError\n",
    "IndentationError\n",
    "IndexError\n",
    "InterruptedError\n",
    "IsADirectoryError\n",
    "KeyError\n",
    "KeyboardInterrupt'''\n",
    "\n",
    "#LookupError\n",
    "\n",
    "'''MemoryError\n",
    "ModuleNotFoundError\n",
    "NameError\n",
    "NotADirectoryError\n",
    "NotImplementedError'''\n",
    "\n",
    "\n",
    "# OSError\n",
    "\n",
    "'''PyExc_OverflowError\n",
    "OverflowError\n",
    "PyExc_PermissionError\n",
    "PermissionError\n",
    "PyExc_ProcessLookupError\n",
    "ProcessLookupError\n",
    "PyExc_RecursionError\n",
    "RecursionError\n",
    "PyExc_ReferenceError'''\n",
    "\n",
    "#ReferenceError\n",
    "\n",
    "'''PyExc_RuntimeError\n",
    "RuntimeError\n",
    "StopAsyncIteration\n",
    "StopIteration\n",
    "SyntaxError\n",
    "SystemError\n",
    "SystemExit\n",
    "TabError\n",
    "TimeoutError\n",
    "TypeError\n",
    "UnboundLocalError\n",
    "UnicodeDecodeError\n",
    "UnicodeEncodeError\n",
    "UnicodeError\n",
    "UnicodeTranslateError\n",
    "ValueError\n",
    "ZeroDivisionError'''"
   ]
  }
 ],
 "metadata": {
  "kernelspec": {
   "display_name": "Python 3",
   "language": "python",
   "name": "python3"
  },
  "language_info": {
   "codemirror_mode": {
    "name": "ipython",
    "version": 3
   },
   "file_extension": ".py",
   "mimetype": "text/x-python",
   "name": "python",
   "nbconvert_exporter": "python",
   "pygments_lexer": "ipython3",
   "version": "3.7.4"
  }
 },
 "nbformat": 4,
 "nbformat_minor": 2
}
