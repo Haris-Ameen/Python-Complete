{
 "cells": [
  {
   "cell_type": "markdown",
   "metadata": {},
   "source": [
    "# JSON FILE"
   ]
  },
  {
   "cell_type": "markdown",
   "metadata": {},
   "source": [
    "#### Read mode (r) , write mode (w) , append mode (a)"
   ]
  },
  {
   "cell_type": "markdown",
   "metadata": {},
   "source": [
    "##### Writing Python List in JSON File"
   ]
  },
  {
   "cell_type": "code",
   "execution_count": 35,
   "metadata": {},
   "outputs": [],
   "source": [
    "import json\n",
    "alphabet_letters = [\"H\", \"A\", \"R\",\"I\",\"S\",\" \", \"A\",\"M\",\"I\",\"N\"] \n",
    "with open(\"alphabet_list.json\", \"w\") as f: # f is a handler\n",
    "    json.dump(alphabet_letters,f )  # In json if we use w mode we use json.dump"
   ]
  },
  {
   "cell_type": "code",
   "execution_count": 36,
   "metadata": {},
   "outputs": [
    {
     "name": "stdout",
     "output_type": "stream",
     "text": [
      "['H', 'A', 'R', 'I', 'S', ' ', 'A', 'M', 'I', 'N']\n"
     ]
    }
   ],
   "source": [
    "with open(\"alphabet_list.json\", \"r\") as f:\n",
    "    alphabet_letters = json.load(f)\n",
    "    print(alphabet_letters)"
   ]
  },
  {
   "cell_type": "markdown",
   "metadata": {},
   "source": [
    "#### Writing Python Dictionary in JSON File"
   ]
  },
  {
   "cell_type": "code",
   "execution_count": 33,
   "metadata": {},
   "outputs": [],
   "source": [
    "haris_17cs28 = {\"ﬁrst name\": \"Haris\",\"last name\": \"Amin\", \"address\": \"4803 Wellesley St.\" }\n",
    "with open(\"name_dict.json\", \"w\") as f: \n",
    "    json.dump(haris_17cs28, f)"
   ]
  },
  {
   "cell_type": "markdown",
   "metadata": {},
   "source": [
    "#### Reading Python Dictionary in JSON File"
   ]
  },
  {
   "cell_type": "code",
   "execution_count": 34,
   "metadata": {},
   "outputs": [
    {
     "name": "stdout",
     "output_type": "stream",
     "text": [
      "{'ﬁrst name': 'Haris', 'last name': 'Amin', 'address': '4803 Wellesley St.'}\n"
     ]
    }
   ],
   "source": [
    "with open(\"name_dict.json\",\"r\") as f:\n",
    "    haris_17cs28 = json.load(f) \n",
    "    print(haris_17cs28)"
   ]
  },
  {
   "cell_type": "code",
   "execution_count": null,
   "metadata": {},
   "outputs": [],
   "source": []
  }
 ],
 "metadata": {
  "kernelspec": {
   "display_name": "Python 3",
   "language": "python",
   "name": "python3"
  },
  "language_info": {
   "codemirror_mode": {
    "name": "ipython",
    "version": 3
   },
   "file_extension": ".py",
   "mimetype": "text/x-python",
   "name": "python",
   "nbconvert_exporter": "python",
   "pygments_lexer": "ipython3",
   "version": "3.7.4"
  }
 },
 "nbformat": 4,
 "nbformat_minor": 2
}
