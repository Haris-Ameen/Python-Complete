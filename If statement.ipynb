{
 "cells": [
  {
   "cell_type": "markdown",
   "metadata": {},
   "source": [
    "# If Statement"
   ]
  },
  {
   "cell_type": "code",
   "execution_count": 38,
   "metadata": {},
   "outputs": [
    {
     "name": "stdout",
     "output_type": "stream",
     "text": [
      "true\n"
     ]
    }
   ],
   "source": [
    "if 2 == 2:\n",
    "    print(\"true\")"
   ]
  },
  {
   "cell_type": "code",
   "execution_count": 15,
   "metadata": {},
   "outputs": [
    {
     "name": "stdout",
     "output_type": "stream",
     "text": [
      "your answer is correct\n"
     ]
    }
   ],
   "source": [
    "first_name = \"Haris\"\n",
    "if first_name == \"Haris\":\n",
    "    print(\"your answer is correct\")"
   ]
  },
  {
   "cell_type": "code",
   "execution_count": 19,
   "metadata": {},
   "outputs": [
    {
     "name": "stdout",
     "output_type": "stream",
     "text": [
      "Congrats your number is correct\n"
     ]
    }
   ],
   "source": [
    "number = 32 \n",
    "if number == number:\n",
    "    print(\"Congrats your number is correct\")"
   ]
  },
  {
   "cell_type": "code",
   "execution_count": 34,
   "metadata": {},
   "outputs": [
    {
     "name": "stdout",
     "output_type": "stream",
     "text": [
      "Congrats!\t\tPerson information is Correct\n"
     ]
    }
   ],
   "source": [
    "First_name = \"Haris\"\n",
    "Last_name = \"Amin\"\n",
    "Cast = \"Arain\"\n",
    "if First_name == \"Haris\" and Last_name == \"Amin\" and Cast == \"Arain\":\n",
    "    print(\"Congrats!\" ,end=\"\\t\\t\")\n",
    "    print(\"Person information is Correct\")\n"
   ]
  },
  {
   "cell_type": "code",
   "execution_count": 36,
   "metadata": {},
   "outputs": [
    {
     "name": "stdout",
     "output_type": "stream",
     "text": [
      "Correct and Keep it up!\n"
     ]
    }
   ],
   "source": [
    "num_1 = 32\n",
    "num_2 = 43\n",
    "num_3 = 63\n",
    "if num_3 > num_1 and num_2 > num_1 and num_3 > num_2 :\n",
    "    print(\"Correct and Keep it up!\")"
   ]
  },
  {
   "cell_type": "code",
   "execution_count": 37,
   "metadata": {},
   "outputs": [
    {
     "name": "stdout",
     "output_type": "stream",
     "text": [
      "Ämazing\n"
     ]
    }
   ],
   "source": [
    "num_1 = 32\n",
    "num_2 = 43\n",
    "num_3 = 63\n",
    "if num_1 > num_3 or num_2 > num_3 and num_1 < num_2 or num_1 < num_3 :\n",
    "    print(\"Ämazing\")"
   ]
  },
  {
   "cell_type": "code",
   "execution_count": 2,
   "metadata": {},
   "outputs": [
    {
     "name": "stdout",
     "output_type": "stream",
     "text": [
      "false\n"
     ]
    }
   ],
   "source": [
    "a=10\n",
    "b=3\n",
    "c=20\n",
    "d=2\n",
    "if a + b <= c - d:\n",
    "    print(\"subtraction is greater\")"
   ]
  },
  {
   "cell_type": "code",
   "execution_count": 4,
   "metadata": {},
   "outputs": [
    {
     "name": "stdout",
     "output_type": "stream",
     "text": [
      "false\n"
     ]
    }
   ],
   "source": [
    "a=10\n",
    "b=3\n",
    "c=2\n",
    "d=2\n",
    "if a + b >= c - d:\n",
    "    print(\"sum is greater\")"
   ]
  },
  {
   "cell_type": "code",
   "execution_count": null,
   "metadata": {},
   "outputs": [],
   "source": []
  }
 ],
 "metadata": {
  "kernelspec": {
   "display_name": "Python 3",
   "language": "python",
   "name": "python3"
  },
  "language_info": {
   "codemirror_mode": {
    "name": "ipython",
    "version": 3
   },
   "file_extension": ".py",
   "mimetype": "text/x-python",
   "name": "python",
   "nbconvert_exporter": "python",
   "pygments_lexer": "ipython3",
   "version": "3.7.4"
  }
 },
 "nbformat": 4,
 "nbformat_minor": 2
}
