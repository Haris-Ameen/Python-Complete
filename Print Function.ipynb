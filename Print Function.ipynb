{
 "cells": [
  {
   "cell_type": "code",
   "execution_count": 2,
   "metadata": {},
   "outputs": [
    {
     "name": "stdout",
     "output_type": "stream",
     "text": [
      "Haris Amin\n"
     ]
    }
   ],
   "source": [
    "print(\"Haris Amin\")"
   ]
  },
  {
   "cell_type": "code",
   "execution_count": 3,
   "metadata": {},
   "outputs": [
    {
     "name": "stdout",
     "output_type": "stream",
     "text": [
      "Haris Amin\n"
     ]
    }
   ],
   "source": [
    "print(\"Haris\",\"Amin\")"
   ]
  },
  {
   "cell_type": "code",
   "execution_count": 11,
   "metadata": {},
   "outputs": [
    {
     "name": "stdout",
     "output_type": "stream",
     "text": [
      "Haris Amin Arain\n"
     ]
    }
   ],
   "source": [
    "print(\"Haris\" , end=\" \")\n",
    "print(\"Amin\" , end=\" \")\n",
    "print(\"Arain\" )"
   ]
  },
  {
   "cell_type": "code",
   "execution_count": 15,
   "metadata": {},
   "outputs": [
    {
     "name": "stdout",
     "output_type": "stream",
     "text": [
      "Haris $ Amin\n",
      "Haris  #@%^*&  Amin\n"
     ]
    }
   ],
   "source": [
    "print(\"Haris\", \"Amin\" ,sep=\" $ \")\n",
    "print(\"Haris\", \"Amin\", sep=\"  #@%^*&  \")"
   ]
  },
  {
   "cell_type": "code",
   "execution_count": 17,
   "metadata": {},
   "outputs": [
    {
     "name": "stdout",
     "output_type": "stream",
     "text": [
      "2\n"
     ]
    }
   ],
   "source": [
    "print(2)"
   ]
  },
  {
   "cell_type": "code",
   "execution_count": 18,
   "metadata": {},
   "outputs": [
    {
     "name": "stdout",
     "output_type": "stream",
     "text": [
      "17\n"
     ]
    }
   ],
   "source": [
    "print(2+5*3)"
   ]
  },
  {
   "cell_type": "code",
   "execution_count": 19,
   "metadata": {},
   "outputs": [
    {
     "name": "stdout",
     "output_type": "stream",
     "text": [
      "40\n"
     ]
    }
   ],
   "source": [
    "print(((2+5)*5)+5)"
   ]
  },
  {
   "cell_type": "code",
   "execution_count": 23,
   "metadata": {},
   "outputs": [
    {
     "name": "stdout",
     "output_type": "stream",
     "text": [
      "Haris\n",
      "Amin\n"
     ]
    }
   ],
   "source": [
    "print(\"Haris\\nAmin\")"
   ]
  },
  {
   "cell_type": "code",
   "execution_count": 28,
   "metadata": {},
   "outputs": [
    {
     "name": "stdout",
     "output_type": "stream",
     "text": [
      "Haris\t\n",
      "\t\tAmin\n"
     ]
    }
   ],
   "source": [
    "print(\"Haris\",end=\"\\n\\t\\t\")\n",
    "print(\"Amin\")"
   ]
  },
  {
   "cell_type": "code",
   "execution_count": 32,
   "metadata": {},
   "outputs": [
    {
     "name": "stdout",
     "output_type": "stream",
     "text": [
      "Artificial Intelligence / Machine Learning / Deep Learning\n",
      "software Engineer or Devops Engineer or Mern Stack Developer or Cloud native web and Mobile Specialist\n",
      "Agile Project Management and Scrum\n"
     ]
    }
   ],
   "source": [
    "print(\"Artificial Intelligence\",\"Machine Learning\",\"Deep Learning\" , sep=\" / \" )\n",
    "print(\"software Engineer\",\"Devops Engineer\",\"Mern Stack Developer\",\"Cloud native web and Mobile Specialist\", sep=\" or \")\n",
    "print(\"Agile Project Management\",\"Scrum\", sep=\" and \")"
   ]
  },
  {
   "cell_type": "code",
   "execution_count": 38,
   "metadata": {},
   "outputs": [
    {
     "name": "stdout",
     "output_type": "stream",
     "text": [
      "Artificial Intelligence Machine Learning Deep Learning \n",
      " \t software Engineer Devops Engineer Mern Stack Developer Cloud native web and Mobile Specialist\n",
      "\t\t\tAgile Project Management/tScrum\n"
     ]
    }
   ],
   "source": [
    "print(\"Artificial Intelligence\",\"Machine Learning\",\"Deep Learning\" , end = \" \\n \\t \" )\n",
    "print(\"software Engineer\",\"Devops Engineer\",\"Mern Stack Developer\",\"Cloud native web and Mobile Specialist\", end=\"\\n\\t\\t\\t\")\n",
    "print(\"Agile Project Management\",\"Scrum\", sep=\"/t\")"
   ]
  },
  {
   "cell_type": "markdown",
   "metadata": {},
   "source": []
  }
 ],
 "metadata": {
  "kernelspec": {
   "display_name": "Python 3",
   "language": "python",
   "name": "python3"
  },
  "language_info": {
   "codemirror_mode": {
    "name": "ipython",
    "version": 3
   },
   "file_extension": ".py",
   "mimetype": "text/x-python",
   "name": "python",
   "nbconvert_exporter": "python",
   "pygments_lexer": "ipython3",
   "version": "3.7.4"
  }
 },
 "nbformat": 4,
 "nbformat_minor": 2
}