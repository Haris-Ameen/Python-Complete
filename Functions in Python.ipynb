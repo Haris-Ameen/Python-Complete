{
 "cells": [
  {
   "cell_type": "markdown",
   "metadata": {},
   "source": [
    "# Functions in Python"
   ]
  },
  {
   "cell_type": "code",
   "execution_count": 3,
   "metadata": {},
   "outputs": [
    {
     "name": "stdout",
     "output_type": "stream",
     "text": [
      "ADD two Numbers\n",
      "7\n"
     ]
    }
   ],
   "source": [
    "def add():\n",
    "    print(\"ADD two Numbers\")\n",
    "    print(2+5)\n",
    "add()"
   ]
  },
  {
   "cell_type": "code",
   "execution_count": 4,
   "metadata": {},
   "outputs": [
    {
     "name": "stdout",
     "output_type": "stream",
     "text": [
      "I am a parameter Less Function\n"
     ]
    }
   ],
   "source": [
    "def add():   # Parameter Less Function\n",
    "    print(\"I am a parameter Less Function\")\n",
    "add()"
   ]
  },
  {
   "cell_type": "code",
   "execution_count": 28,
   "metadata": {},
   "outputs": [
    {
     "name": "stdout",
     "output_type": "stream",
     "text": [
      "Haris Amin\n"
     ]
    }
   ],
   "source": [
    "def name():\n",
    "    print(\"Haris Amin\")\n",
    "name()"
   ]
  },
  {
   "cell_type": "markdown",
   "metadata": {},
   "source": [
    "### Passing Information Positional Arguments"
   ]
  },
  {
   "cell_type": "code",
   "execution_count": 9,
   "metadata": {},
   "outputs": [
    {
     "name": "stdout",
     "output_type": "stream",
     "text": [
      "-24\n"
     ]
    }
   ],
   "source": [
    "def add(a,b,c,d): # Parameterized Function\n",
    "    print(a+b-c*d)\n",
    "add(3,5,4,8) # positonal arguments"
   ]
  },
  {
   "cell_type": "code",
   "execution_count": 10,
   "metadata": {},
   "outputs": [
    {
     "name": "stdout",
     "output_type": "stream",
     "text": [
      "-815\n"
     ]
    }
   ],
   "source": [
    "add(35,53,43,21)"
   ]
  },
  {
   "cell_type": "code",
   "execution_count": 24,
   "metadata": {},
   "outputs": [
    {
     "name": "stdout",
     "output_type": "stream",
     "text": [
      "Haris Amin Arain\n"
     ]
    }
   ],
   "source": [
    "def fullname(firstname,middlename,lastname):\n",
    "    print(firstname+\" \"+middlename+\" \"+lastname)\n",
    "fullname(\"Haris\",\"Amin\",\"Arain\")"
   ]
  },
  {
   "cell_type": "code",
   "execution_count": 25,
   "metadata": {},
   "outputs": [
    {
     "name": "stdout",
     "output_type": "stream",
     "text": [
      "Shariq Raseed Rajput\n"
     ]
    }
   ],
   "source": [
    "fullname(\"Shariq\",\"Raseed\",\"Rajput\")"
   ]
  },
  {
   "cell_type": "markdown",
   "metadata": {},
   "source": [
    "### passing Information Keyword Arguments"
   ]
  },
  {
   "cell_type": "code",
   "execution_count": 31,
   "metadata": {},
   "outputs": [
    {
     "name": "stdout",
     "output_type": "stream",
     "text": [
      "Haris Amin Arain\n"
     ]
    }
   ],
   "source": [
    "def fullname(firstname,middlename,lastname):\n",
    "    print(firstname+\" \"+middlename+\" \"+lastname)\n",
    "fullname(firstname=\"Haris\",lastname=\"Arain\",middlename=\"Amin\")  # Keyword Arguments  \n",
    "# note: Remember one thing the keyword arguments use is in the Last"
   ]
  },
  {
   "cell_type": "code",
   "execution_count": 32,
   "metadata": {},
   "outputs": [
    {
     "name": "stdout",
     "output_type": "stream",
     "text": [
      "Sheraz usman Memon\n"
     ]
    }
   ],
   "source": [
    "fullname(\"Sheraz\",\"usman\",lastname=\"Memon\")"
   ]
  },
  {
   "cell_type": "markdown",
   "metadata": {},
   "source": [
    "### Default Parameters"
   ]
  },
  {
   "cell_type": "code",
   "execution_count": 35,
   "metadata": {},
   "outputs": [
    {
     "name": "stdout",
     "output_type": "stream",
     "text": [
      "44\n"
     ]
    }
   ],
   "source": [
    "def add(number1=12,number2=31):\n",
    "    print(number1+number2)\n",
    "add(number2=32)"
   ]
  },
  {
   "cell_type": "code",
   "execution_count": 34,
   "metadata": {},
   "outputs": [
    {
     "name": "stdout",
     "output_type": "stream",
     "text": [
      "63\n"
     ]
    }
   ],
   "source": [
    "add(number1=32)"
   ]
  },
  {
   "cell_type": "code",
   "execution_count": 37,
   "metadata": {},
   "outputs": [
    {
     "name": "stdout",
     "output_type": "stream",
     "text": [
      "Haris Amin\n"
     ]
    }
   ],
   "source": [
    "def fullname(firstname,lastname,middlename = \" \"):\n",
    "    print(firstname+middlename+lastname)\n",
    "fullname(\"Haris\",\"Amin\")"
   ]
  },
  {
   "cell_type": "markdown",
   "metadata": {},
   "source": [
    "### Dealing with Arbitary numbers of Arguments"
   ]
  },
  {
   "cell_type": "code",
   "execution_count": 41,
   "metadata": {},
   "outputs": [
    {
     "name": "stdout",
     "output_type": "stream",
     "text": [
      "your order for pizza of size 10,and flavor chiken Tikka,and Toppings ('Olives', 'Fruits', 'ABCD')\n"
     ]
    }
   ],
   "source": [
    "def pizzaorder(size,flavor,*Toppings):\n",
    "    print(f\"your order for pizza of size {size},and flavor {flavor},and Toppings {Toppings}\")\n",
    "pizzaorder(10,\"chiken Tikka\",\"Olives\",\"Fruits\",\"ABCD\")"
   ]
  },
  {
   "cell_type": "markdown",
   "metadata": {},
   "source": [
    "### Functions: Passing Information Back from them"
   ]
  },
  {
   "cell_type": "code",
   "execution_count": 44,
   "metadata": {},
   "outputs": [
    {
     "name": "stdout",
     "output_type": "stream",
     "text": [
      "18\n"
     ]
    }
   ],
   "source": [
    "def add(val1,val2,val3):\n",
    "    values = val1+val2+val3\n",
    "    return values\n",
    "result=add(2,3,4)\n",
    "print(result*2)"
   ]
  },
  {
   "cell_type": "code",
   "execution_count": 49,
   "metadata": {},
   "outputs": [
    {
     "name": "stdout",
     "output_type": "stream",
     "text": [
      "(9, 'Hello From Haris', 17)\n"
     ]
    }
   ],
   "source": [
    "def add(val1,val2,val3):\n",
    "    values = val1+val2+val3\n",
    "    return values,\"Hello From Haris\",17        # return return more than one values\n",
    "  # Return must be the last line of the Execution in the Function  \n",
    "result=add(2,3,4)\n",
    "print(result)"
   ]
  },
  {
   "cell_type": "code",
   "execution_count": 50,
   "metadata": {},
   "outputs": [
    {
     "name": "stdout",
     "output_type": "stream",
     "text": [
      "(9, 'Hello From Haris', 17, 9, 'Hello From Haris', 17, 9, 'Hello From Haris', 17)\n"
     ]
    }
   ],
   "source": [
    "print(result*3)"
   ]
  },
  {
   "cell_type": "markdown",
   "metadata": {},
   "source": [
    "### Function as a Variable"
   ]
  },
  {
   "cell_type": "code",
   "execution_count": 60,
   "metadata": {},
   "outputs": [
    {
     "data": {
      "text/plain": [
       "9"
      ]
     },
     "execution_count": 60,
     "metadata": {},
     "output_type": "execute_result"
    }
   ],
   "source": [
    "def add(a,b,c):\n",
    "    return a+b+c\n",
    "def sub(a,c,b):\n",
    "    return a-c-b\n",
    "result = add(2,3,4) + sub(2,1,1)\n",
    "result"
   ]
  },
  {
   "cell_type": "markdown",
   "metadata": {},
   "source": [
    "### Function Within Function"
   ]
  },
  {
   "cell_type": "code",
   "execution_count": 63,
   "metadata": {
    "scrolled": true
   },
   "outputs": [
    {
     "name": "stdout",
     "output_type": "stream",
     "text": [
      "Your Gross Salary is 65000\n"
     ]
    }
   ],
   "source": [
    "def CommissionCalc(sales):\n",
    "    if sales>100:\n",
    "        return sales*100\n",
    "    elif sales>50:\n",
    "        return sales*50\n",
    "    elif sales>20:\n",
    "        return sales*20\n",
    "    else:\n",
    "        return 0\n",
    "def salaryCalc(basic,sales):\n",
    "    grossalary = basic + CommissionCalc(sales)\n",
    "    print(f\"Your Gross Salary is {grossalary}\")\n",
    "salaryCalc(50000,150)"
   ]
  },
  {
   "cell_type": "code",
   "execution_count": 66,
   "metadata": {},
   "outputs": [
    {
     "name": "stdout",
     "output_type": "stream",
     "text": [
      "What is your nameHaris\n",
      "Haris is enrolled in Panacloud REACT,JAVASCRIPT 3 MONTH\n"
     ]
    }
   ],
   "source": [
    "def courseinfo():\n",
    "    institute = \"Panacloud\"\n",
    "    language = \"REACT,JAVASCRIPT\"\n",
    "    duration = \"3 MONTH\"\n",
    "    return (institute +\" \"+ language +\" \"+ duration)\n",
    "def userinfo():\n",
    "    name = input(\"What is your name\")\n",
    "    result = name +\" \"+ \"is enrolled in\" +\" \"+ courseinfo()\n",
    "    return result\n",
    "wholeinfo = userinfo()\n",
    "print(wholeinfo)"
   ]
  },
  {
   "cell_type": "code",
   "execution_count": null,
   "metadata": {},
   "outputs": [],
   "source": []
  }
 ],
 "metadata": {
  "kernelspec": {
   "display_name": "Python 3",
   "language": "python",
   "name": "python3"
  },
  "language_info": {
   "codemirror_mode": {
    "name": "ipython",
    "version": 3
   },
   "file_extension": ".py",
   "mimetype": "text/x-python",
   "name": "python",
   "nbconvert_exporter": "python",
   "pygments_lexer": "ipython3",
   "version": "3.7.4"
  }
 },
 "nbformat": 4,
 "nbformat_minor": 2
}
