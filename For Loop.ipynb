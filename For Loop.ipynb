{
 "cells": [
  {
   "cell_type": "markdown",
   "metadata": {},
   "source": [
    "# FOR LOOP"
   ]
  },
  {
   "cell_type": "code",
   "execution_count": 41,
   "metadata": {},
   "outputs": [
    {
     "name": "stdout",
     "output_type": "stream",
     "text": [
      "1\n",
      "2\n",
      "3\n",
      "4\n",
      "5\n",
      "6\n",
      "7\n",
      "8\n",
      "9\n",
      "10\n"
     ]
    }
   ],
   "source": [
    "list_1 = [1,2,3,4,5,6,7,8,9,10]\n",
    "for li in list_1 :\n",
    "    print(li)"
   ]
  },
  {
   "cell_type": "code",
   "execution_count": 44,
   "metadata": {},
   "outputs": [
    {
     "name": "stdout",
     "output_type": "stream",
     "text": [
      "11\n",
      "12\n",
      "13\n",
      "14\n",
      "15\n"
     ]
    }
   ],
   "source": [
    "for num in [11,12,13,14,15]:\n",
    "    print(num) "
   ]
  },
  {
   "cell_type": "code",
   "execution_count": 35,
   "metadata": {},
   "outputs": [
    {
     "name": "stdout",
     "output_type": "stream",
     "text": [
      "1\n",
      "3\n",
      "5\n",
      "7\n",
      "9\n"
     ]
    }
   ],
   "source": [
    "for a in range(1,10,2):\n",
    "    print(a)"
   ]
  },
  {
   "cell_type": "code",
   "execution_count": 42,
   "metadata": {},
   "outputs": [
    {
     "name": "stdout",
     "output_type": "stream",
     "text": [
      "10\n",
      "8\n",
      "6\n",
      "4\n",
      "2\n"
     ]
    }
   ],
   "source": [
    "for a in range(10,1,-2):\n",
    "    print(a)"
   ]
  },
  {
   "cell_type": "code",
   "execution_count": 39,
   "metadata": {},
   "outputs": [
    {
     "name": "stdout",
     "output_type": "stream",
     "text": [
      "2\n",
      "52\n",
      "102\n",
      "152\n",
      "202\n",
      "252\n",
      "302\n",
      "352\n",
      "402\n",
      "452\n",
      "502\n"
     ]
    }
   ],
   "source": [
    "for a in range(2,503,50):\n",
    "    print(a)"
   ]
  },
  {
   "cell_type": "code",
   "execution_count": 45,
   "metadata": {},
   "outputs": [
    {
     "name": "stdout",
     "output_type": "stream",
     "text": [
      "P\n",
      "A\n",
      "K\n",
      "I\n",
      "S\n",
      "T\n",
      "A\n",
      "N\n"
     ]
    }
   ],
   "source": [
    "country = \"PAKISTAN\"\n",
    "for ai in country:\n",
    "    print(ai)"
   ]
  },
  {
   "cell_type": "code",
   "execution_count": 46,
   "metadata": {},
   "outputs": [
    {
     "name": "stdout",
     "output_type": "stream",
     "text": [
      "Pakistan\n",
      "Turkey\n"
     ]
    }
   ],
   "source": [
    "country = \"Pakistan\",\"Turkey\"\n",
    "for ai in country:\n",
    "    print(ai)"
   ]
  },
  {
   "cell_type": "code",
   "execution_count": 8,
   "metadata": {},
   "outputs": [
    {
     "name": "stdout",
     "output_type": "stream",
     "text": [
      "Haris\n",
      "Haris\n",
      "Haris\n",
      "Haris\n",
      "Haris\n",
      "Haris\n",
      "Haris\n",
      "Haris\n",
      "Haris\n",
      "Haris\n"
     ]
    }
   ],
   "source": [
    "for a in range(10):\n",
    "    print(\"Haris\")"
   ]
  },
  {
   "cell_type": "code",
   "execution_count": 9,
   "metadata": {},
   "outputs": [
    {
     "name": "stdout",
     "output_type": "stream",
     "text": [
      "0 Haris\n",
      "1 Haris\n",
      "2 Haris\n",
      "3 Haris\n",
      "4 Haris\n",
      "5 Haris\n",
      "6 Haris\n",
      "7 Haris\n",
      "8 Haris\n",
      "9 Haris\n"
     ]
    }
   ],
   "source": [
    "for a in range(10):   # range start from 0 to 9\n",
    "    print(a,\"Haris\")"
   ]
  },
  {
   "cell_type": "code",
   "execution_count": 33,
   "metadata": {},
   "outputs": [
    {
     "name": "stdout",
     "output_type": "stream",
     "text": [
      "1 Haris\n",
      "3 Haris\n",
      "5 Haris\n",
      "7 Haris\n",
      "9 Haris\n"
     ]
    }
   ],
   "source": [
    "for a in range(1,11,2):   # range start from 0 to 9\n",
    "    print(a,\"Haris\")"
   ]
  },
  {
   "cell_type": "code",
   "execution_count": 63,
   "metadata": {},
   "outputs": [
    {
     "name": "stdout",
     "output_type": "stream",
     "text": [
      "Haris Amin\n",
      "Haris Amin\n",
      "Haris Amin\n",
      "Haris Amin\n",
      "Haris Amin\n",
      "Haris Amin\n",
      "Haris Amin\n",
      "Haris Amin\n",
      "Haris Amin\n",
      "Haris Amin\n",
      "Haris Amin\n",
      "17CS28\n"
     ]
    }
   ],
   "source": [
    "for a in range(1,12):\n",
    "     print(\"Haris\" +\" \"+ \"Amin\")\n",
    "                                         # 17cs28 is in outer loop that is not included in loop        \n",
    "print(\"17CS28\")"
   ]
  },
  {
   "cell_type": "code",
   "execution_count": null,
   "metadata": {},
   "outputs": [],
   "source": []
  }
 ],
 "metadata": {
  "kernelspec": {
   "display_name": "Python 3",
   "language": "python",
   "name": "python3"
  },
  "language_info": {
   "codemirror_mode": {
    "name": "ipython",
    "version": 3
   },
   "file_extension": ".py",
   "mimetype": "text/x-python",
   "name": "python",
   "nbconvert_exporter": "python",
   "pygments_lexer": "ipython3",
   "version": "3.7.4"
  }
 },
 "nbformat": 4,
 "nbformat_minor": 2
}
