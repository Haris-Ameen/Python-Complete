{
 "cells": [
  {
   "cell_type": "code",
   "execution_count": 1,
   "metadata": {},
   "outputs": [
    {
     "name": "stdout",
     "output_type": "stream",
     "text": [
      "0 This is a while loop\n",
      "1 This is a while loop\n",
      "2 This is a while loop\n",
      "3 This is a while loop\n",
      "4 This is a while loop\n",
      "5 This is a while loop\n",
      "6 This is a while loop\n",
      "7 This is a while loop\n",
      "8 This is a while loop\n",
      "9 This is a while loop\n",
      "10 This is a while loop\n"
     ]
    }
   ],
   "source": [
    "a = 0\n",
    "while a <= 10:\n",
    "    print(a,\"This is a while loop\")\n",
    "    a+=1"
   ]
  },
  {
   "cell_type": "markdown",
   "metadata": {},
   "source": [
    "### Setting up Flag or BREAK AND CONTINUE STATEMENT"
   ]
  },
  {
   "cell_type": "code",
   "execution_count": 2,
   "metadata": {},
   "outputs": [
    {
     "name": "stdout",
     "output_type": "stream",
     "text": [
      "Enter your Favourite colorsRed\n",
      "['Red']\n",
      "Enter your Favourite colorsGreen\n",
      "['Red', 'Green']\n",
      "Enter your Favourite colorsBlue\n",
      "['Red', 'Green', 'Blue']\n",
      "Enter your Favourite colorsExit\n",
      "['Red', 'Green', 'Blue']\n"
     ]
    }
   ],
   "source": [
    "flag = True       # you can choose any variable I choose flag as a variable\n",
    "fav_color = []\n",
    "while flag:\n",
    "    userinput = input(\"Enter your Favourite colors\")\n",
    "    if userinput == \"Exit\":\n",
    "        flag = False\n",
    "    else:\n",
    "        fav_color.append(userinput)\n",
    "    print(fav_color)"
   ]
  },
  {
   "cell_type": "code",
   "execution_count": 3,
   "metadata": {},
   "outputs": [
    {
     "name": "stdout",
     "output_type": "stream",
     "text": [
      "1\n",
      "4\n",
      "10\n",
      "200\n"
     ]
    }
   ],
   "source": [
    "dict = {1: True, 4: True, 10: True, 100: False, 200: True}\n",
    "for key, value in dict.items():\n",
    "    if value == True:\n",
    "        print(key)"
   ]
  },
  {
   "cell_type": "code",
   "execution_count": null,
   "metadata": {},
   "outputs": [],
   "source": []
  }
 ],
 "metadata": {
  "kernelspec": {
   "display_name": "Python 3",
   "language": "python",
   "name": "python3"
  },
  "language_info": {
   "codemirror_mode": {
    "name": "ipython",
    "version": 3
   },
   "file_extension": ".py",
   "mimetype": "text/x-python",
   "name": "python",
   "nbconvert_exporter": "python",
   "pygments_lexer": "ipython3",
   "version": "3.7.4"
  }
 },
 "nbformat": 4,
 "nbformat_minor": 2
}
