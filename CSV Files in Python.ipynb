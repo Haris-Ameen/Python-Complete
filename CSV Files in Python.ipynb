{
 "cells": [
  {
   "cell_type": "markdown",
   "metadata": {},
   "source": [
    "# CSV Files"
   ]
  },
  {
   "cell_type": "markdown",
   "metadata": {},
   "source": [
    "##### CSV file are text-only file that are simplified versions of a spreadsheet or database\n",
    "##### CSV stands for Comma-Seprated-Values"
   ]
  },
  {
   "cell_type": "markdown",
   "metadata": {},
   "source": [
    "#### Three steps in csv file:\n",
    "    (1) import CSV module\n",
    "    (2) Use csv.reader() , csv.writer() , csv.append() method\n",
    "    (3) initalize For in loop because csv and excel file is in rows and columns"
   ]
  },
  {
   "cell_type": "code",
   "execution_count": 4,
   "metadata": {},
   "outputs": [
    {
     "name": "stdout",
     "output_type": "stream",
     "text": [
      "['Year', 'Event', 'Winner ']\n",
      "['1995', 'Best-Kept Lawn', 'None ']\n",
      "['1999', 'Gobstones', 'Welch National ']\n",
      "['2006', 'World Cup', 'Burkina Faso ']\n"
     ]
    }
   ],
   "source": [
    "import csv\n",
    "with open (\"csvfile.csv\",\"r\") as file:\n",
    "    contents = csv.reader(file)\n",
    "    for content in contents:\n",
    "        print(content)"
   ]
  },
  {
   "cell_type": "code",
   "execution_count": 22,
   "metadata": {},
   "outputs": [],
   "source": [
    "with open (\"csvfile.csv\",\"w\",newline = \"\") as file:\n",
    "    contents = csv.writer(file)\n",
    "    contents.writerow([\"Haris\",\"Amin\",\"ARain\",1728])\n",
    "    contents.writerow([\"Sheraz\",\"Usman\",\"Memon\",1726])\n",
    "    contents.writerow([\"shariq\",\"rasheed\",\"rajput\",1705])"
   ]
  },
  {
   "cell_type": "code",
   "execution_count": 23,
   "metadata": {},
   "outputs": [],
   "source": [
    "with open (\"csvfile.csv\",\"a\",newline = \"\") as file:\n",
    "    contents = csv.writer(file)\n",
    "    contents.writerow([\"2020\",\"CW2019\",\"England\"])"
   ]
  },
  {
   "cell_type": "code",
   "execution_count": null,
   "metadata": {},
   "outputs": [],
   "source": []
  }
 ],
 "metadata": {
  "kernelspec": {
   "display_name": "Python 3",
   "language": "python",
   "name": "python3"
  },
  "language_info": {
   "codemirror_mode": {
    "name": "ipython",
    "version": 3
   },
   "file_extension": ".py",
   "mimetype": "text/x-python",
   "name": "python",
   "nbconvert_exporter": "python",
   "pygments_lexer": "ipython3",
   "version": "3.7.4"
  }
 },
 "nbformat": 4,
 "nbformat_minor": 2
}
