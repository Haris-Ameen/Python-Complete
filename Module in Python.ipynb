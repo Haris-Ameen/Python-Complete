{
 "cells": [
  {
   "cell_type": "markdown",
   "metadata": {},
   "source": [
    "# Built-in Module in Python"
   ]
  },
  {
   "cell_type": "code",
   "execution_count": null,
   "metadata": {},
   "outputs": [],
   "source": [
    "# %load math_module.py\n",
    "def add(a,b):\n",
    "    return a+b\n",
    "def sub(a,b):\n",
    "    return a-b\n",
    "def mul(a,b):\n",
    "    return a*b\n",
    "    "
   ]
  },
  {
   "cell_type": "code",
   "execution_count": 22,
   "metadata": {},
   "outputs": [],
   "source": [
    "import math_module as m"
   ]
  },
  {
   "cell_type": "code",
   "execution_count": 23,
   "metadata": {},
   "outputs": [
    {
     "data": {
      "text/plain": [
       "4"
      ]
     },
     "execution_count": 23,
     "metadata": {},
     "output_type": "execute_result"
    }
   ],
   "source": [
    "m.add(1,3)"
   ]
  },
  {
   "cell_type": "code",
   "execution_count": 24,
   "metadata": {},
   "outputs": [
    {
     "data": {
      "text/plain": [
       "237"
      ]
     },
     "execution_count": 24,
     "metadata": {},
     "output_type": "execute_result"
    }
   ],
   "source": [
    "m.sub(5,232)"
   ]
  },
  {
   "cell_type": "code",
   "execution_count": 25,
   "metadata": {},
   "outputs": [
    {
     "data": {
      "text/plain": [
       "34"
      ]
     },
     "execution_count": 25,
     "metadata": {},
     "output_type": "execute_result"
    }
   ],
   "source": [
    "m.mul(3,31)"
   ]
  },
  {
   "cell_type": "code",
   "execution_count": 1,
   "metadata": {},
   "outputs": [
    {
     "name": "stdout",
     "output_type": "stream",
     "text": [
      "2020-06-13\n"
     ]
    }
   ],
   "source": [
    "import datetime  \n",
    "currentDate = datetime.date.today()\n",
    "print (currentDate)"
   ]
  },
  {
   "cell_type": "code",
   "execution_count": 2,
   "metadata": {},
   "outputs": [
    {
     "name": "stdout",
     "output_type": "stream",
     "text": [
      "2020-06-13\n",
      "2020\n",
      "6\n",
      "13\n"
     ]
    }
   ],
   "source": [
    "import datetime\n",
    "currentDate = datetime.date.today()\n",
    "print (currentDate)\n",
    "print (currentDate.year)\n",
    "print (currentDate.month)\n",
    "print (currentDate.day)"
   ]
  },
  {
   "cell_type": "markdown",
   "metadata": {},
   "source": [
    "### Date Formats"
   ]
  },
  {
   "cell_type": "code",
   "execution_count": 7,
   "metadata": {},
   "outputs": [
    {
     "name": "stdout",
     "output_type": "stream",
     "text": [
      "13 Jun,2020\n"
     ]
    },
    {
     "data": {
      "text/plain": [
       "' %d is the day of the month\\n\\n    %b is the abbreviation for the month\\n\\n    %Y is the 4 digit year\\n\\n    %b is the month abbreviation\\n\\n    %B is the full month name\\n\\n    %y is two digit year\\n\\n    %a is the day of the week abbreviated\\n\\n    %A is the day of the week'"
      ]
     },
     "execution_count": 7,
     "metadata": {},
     "output_type": "execute_result"
    }
   ],
   "source": [
    "import datetime\n",
    "\n",
    "currentDate = datetime.date.today()\n",
    "\n",
    "#strftime allows you to specify the date format\n",
    "\n",
    "print (currentDate.strftime('%d %b,%Y'))\n",
    "\n",
    "\n",
    "''' %d is the day of the month\n",
    "\n",
    "    %b is the abbreviation for the month\n",
    "\n",
    "    %Y is the 4 digit year\n",
    "\n",
    "    %b is the month abbreviation\n",
    "\n",
    "    %B is the full month name\n",
    "\n",
    "    %y is two digit year\n",
    "\n",
    "    %a is the day of the week abbreviated\n",
    "\n",
    "    %A is the day of the week'''"
   ]
  },
  {
   "cell_type": "markdown",
   "metadata": {},
   "source": [
    "### Working with time"
   ]
  },
  {
   "cell_type": "code",
   "execution_count": 12,
   "metadata": {},
   "outputs": [
    {
     "name": "stdout",
     "output_type": "stream",
     "text": [
      "2020-06-13 19:53:54.372856\n",
      "19\n",
      "53\n",
      "54\n"
     ]
    }
   ],
   "source": [
    "import datetime\n",
    "\n",
    "currentTime = datetime.datetime.now()\n",
    "print (currentTime)\n",
    "print (currentTime.hour)\n",
    "print (currentTime.minute)\n",
    "print (currentTime.second)"
   ]
  },
  {
   "cell_type": "code",
   "execution_count": 16,
   "metadata": {},
   "outputs": [
    {
     "name": "stdout",
     "output_type": "stream",
     "text": [
      "19:55:PM\n"
     ]
    },
    {
     "data": {
      "text/plain": [
       "'%H Hours (24 hr clock)\\n\\n   %I Hours (12 hr clock)\\n\\n   %p AM or PM\\n\\n   %m Minutes\\n\\n   %S Seconds'"
      ]
     },
     "execution_count": 16,
     "metadata": {},
     "output_type": "execute_result"
    }
   ],
   "source": [
    "import datetime\n",
    "\n",
    "currentTime = datetime.datetime.now()\n",
    "print (datetime.datetime.strftime(currentTime,'%H:%M:%p'))\n",
    "\n",
    "\n",
    "'''%H Hours (24 hr clock)\n",
    "\n",
    "   %I Hours (12 hr clock)\n",
    "\n",
    "   %p AM or PM\n",
    "\n",
    "   %m Minutes\n",
    "\n",
    "   %S Seconds'''"
   ]
  },
  {
   "cell_type": "markdown",
   "metadata": {},
   "source": [
    "### All Date and Time Formats"
   ]
  },
  {
   "cell_type": "code",
   "execution_count": null,
   "metadata": {},
   "outputs": [],
   "source": [
    "'''%a\tWeekday as locale’s abbreviated name.\tMon\n",
    "   %A\tWeekday as locale’s full name.\tMonday\n",
    "   %w\tWeekday as a decimal number, where 0 is Sunday and 6 is Saturday.\t1\n",
    "   %d\tDay of the month as a zero-padded decimal number.\t30\n",
    "   %-d\tDay of the month as a decimal number. (Platform specific)\t30\n",
    "   %b\tMonth as locale’s abbreviated name.\tSep \n",
    "   %B\tMonth as locale’s full name.\tSeptember\n",
    "   %m\tMonth as a zero-padded decimal number.\t09\n",
    "   %-m\tMonth as a decimal number. (Platform specific)\t9\n",
    "   %y\tYear without century as a zero-padded decimal number.\t13\n",
    "   %Y\tYear with century as a decimal number.\t2013\n",
    "   %H\tHour (24-hour clock) as a zero-padded decimal number.\t07\n",
    "   %-H\tHour (24-hour clock) as a decimal number. (Platform specific)\t7\n",
    "   %I\tHour (12-hour clock) as a zero-padded decimal number.\t07\n",
    "   %-I\tHour (12-hour clock) as a decimal number. (Platform specific)\t7\n",
    "   %p\tLocale’s equivalent of either AM or PM.\tAM\n",
    "   %M\tMinute as a zero-padded decimal number.\t06\n",
    "   %-M\tMinute as a decimal number. (Platform specific)\t6\n",
    "   %S\tSecond as a zero-padded decimal number.\t05\n",
    "   %-S\tSecond as a decimal number. (Platform specific)\t5\n",
    "   %f\tMicrosecond as a decimal number, zero-padded on the left.\t000000\n",
    "   %z\tUTC offset in the form +HHMM or -HHMM (empty string if the the object is naive).\t\n",
    "   %Z\tTime zone name (empty string if the object is naive).\t\n",
    "   %j\tDay of the year as a zero-padded decimal number.\t273\n",
    "   %-j\tDay of the year as a decimal number. (Platform specific)\t273\n",
    "   %U\tWeek number of the year (Sunday as the first day of the week) as a zero padded decimal number. All days in a new year preceding the first Sunday are considered to be in week 0.\t39\n",
    "   %W\tWeek number of the year (Monday as the first day of the week) as a decimal number. All days in a new year preceding the first Monday are considered to be in week 0.\t39\n",
    "   %c\tLocale’s appropriate date and time representation.\tMon Sep 30 07:06:05 2013\n",
    "   %x\tLocale’s appropriate date representation.\t09/30/13\n",
    "   %X\tLocale’s appropriate time representation.\t07:06:05\n",
    "   %%\tA literal '%' character.\t%'''"
   ]
  }
 ],
 "metadata": {
  "kernelspec": {
   "display_name": "Python 3",
   "language": "python",
   "name": "python3"
  },
  "language_info": {
   "codemirror_mode": {
    "name": "ipython",
    "version": 3
   },
   "file_extension": ".py",
   "mimetype": "text/x-python",
   "name": "python",
   "nbconvert_exporter": "python",
   "pygments_lexer": "ipython3",
   "version": "3.7.4"
  }
 },
 "nbformat": 4,
 "nbformat_minor": 2
}
