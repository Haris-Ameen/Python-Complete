{
 "cells": [
  {
   "cell_type": "markdown",
   "metadata": {},
   "source": [
    "# Data File"
   ]
  },
  {
   "cell_type": "markdown",
   "metadata": {},
   "source": [
    "#### Read Mode (r) , Write Mode (w) , append Mode (a)"
   ]
  },
  {
   "cell_type": "code",
   "execution_count": 31,
   "metadata": {},
   "outputs": [
    {
     "name": "stdout",
     "output_type": "stream",
     "text": [
      "New file that name is datafile(1)\n"
     ]
    }
   ],
   "source": [
    "with open(\"datafile(1).txt\",\"r\") as file:  # In read mode we cannot write \n",
    "    content = file.read()\n",
    "print(content)"
   ]
  },
  {
   "cell_type": "code",
   "execution_count": 32,
   "metadata": {},
   "outputs": [],
   "source": [
    "with open (\"datafile(1).txt\",\"w\") as file:       # w mode will create a  file and write in it.\n",
    "    content = file.write(\"New file that name is datafile is updated\")\n",
    "# if we write file the previous data is remove and new data is written in the file\n",
    "# In w mode we cannot read a file only write a file."
   ]
  },
  {
   "cell_type": "code",
   "execution_count": 33,
   "metadata": {},
   "outputs": [],
   "source": [
    "with open (\"datafile(1).txt\",\"a\") as file:\n",
    "    content = file.write(\"\\nNow new things is updated\")"
   ]
  },
  {
   "cell_type": "markdown",
   "metadata": {},
   "source": [
    "### r+ Mode , w+ Mode"
   ]
  },
  {
   "cell_type": "code",
   "execution_count": 34,
   "metadata": {},
   "outputs": [
    {
     "name": "stdout",
     "output_type": "stream",
     "text": [
      "This is the Second file\n"
     ]
    }
   ],
   "source": [
    "with open (\"datafile(2).txt\",\"w+\") as f:  # In w+ mode we create a file , write and read a file.\n",
    "    content = f.write(\"This is the Second file\")\n",
    "    f.seek(0)\n",
    "    print(f.read())"
   ]
  },
  {
   "cell_type": "code",
   "execution_count": 38,
   "metadata": {},
   "outputs": [
    {
     "name": "stdout",
     "output_type": "stream",
     "text": [
      "This is the new updated file\n"
     ]
    }
   ],
   "source": [
    "with open (\"datafile(2).txt\",\"r+\") as f: # In r+ mode we cannot create a file we only read an existing file if we read they give FileNotFound Error. \n",
    "    content = f.write(\"This is the new updated file\")\n",
    "    f.seek(0)\n",
    "    print(f.read())"
   ]
  },
  {
   "cell_type": "code",
   "execution_count": null,
   "metadata": {},
   "outputs": [],
   "source": []
  }
 ],
 "metadata": {
  "kernelspec": {
   "display_name": "Python 3",
   "language": "python",
   "name": "python3"
  },
  "language_info": {
   "codemirror_mode": {
    "name": "ipython",
    "version": 3
   },
   "file_extension": ".py",
   "mimetype": "text/x-python",
   "name": "python",
   "nbconvert_exporter": "python",
   "pygments_lexer": "ipython3",
   "version": "3.7.4"
  }
 },
 "nbformat": 4,
 "nbformat_minor": 2
}
