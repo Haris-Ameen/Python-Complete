{
 "cells": [
  {
   "cell_type": "markdown",
   "metadata": {},
   "source": [
    "# IF , ELIF AND ELSE Statements"
   ]
  },
  {
   "cell_type": "code",
   "execution_count": 2,
   "metadata": {},
   "outputs": [
    {
     "name": "stdout",
     "output_type": "stream",
     "text": [
      "right\n"
     ]
    }
   ],
   "source": [
    "if \"cat\" == \"dog\":\n",
    "    print(\"wrong\")\n",
    "elif \"cat\" == \"cat\":\n",
    "    print(\"right\")\n",
    "else:\n",
    "    print(\"failed\")"
   ]
  },
  {
   "cell_type": "code",
   "execution_count": 5,
   "metadata": {},
   "outputs": [
    {
     "name": "stdout",
     "output_type": "stream",
     "text": [
      "Right Answer\n"
     ]
    }
   ],
   "source": [
    "if \"cat\" == \"dog\" or \"cat\" == \"cat\":\n",
    "    print(\"Right Answer\")\n",
    "else:\n",
    "    print(\"wrong answer\")"
   ]
  },
  {
   "cell_type": "code",
   "execution_count": 8,
   "metadata": {},
   "outputs": [
    {
     "name": "stdout",
     "output_type": "stream",
     "text": [
      "your answer is wrong\n"
     ]
    }
   ],
   "source": [
    "num1 = 32\n",
    "num2 = 43\n",
    "num3 = 51\n",
    "num4 = 53\n",
    "if num1 >num2:\n",
    "    print(\"number 1 is correct\")\n",
    "elif num2 >= num3:\n",
    "    print(\"number 2 is correct\")\n",
    "elif num3 >= num4:\n",
    "    print(\"number 3 is correct\")\n",
    "else:\n",
    "    print(\"your answer is wrong\")"
   ]
  },
  {
   "cell_type": "code",
   "execution_count": 9,
   "metadata": {},
   "outputs": [
    {
     "name": "stdout",
     "output_type": "stream",
     "text": [
      "right one\n"
     ]
    }
   ],
   "source": [
    "num1 = 32\n",
    "num2 = 43\n",
    "num3 = 51\n",
    "if num1 >num2 or num2 <=num3 or num1 > num3 :\n",
    "    print(\"right one\")\n",
    "else:\n",
    "    print(\"wrong one\")"
   ]
  },
  {
   "cell_type": "code",
   "execution_count": null,
   "metadata": {},
   "outputs": [],
   "source": []
  }
 ],
 "metadata": {
  "kernelspec": {
   "display_name": "Python 3",
   "language": "python",
   "name": "python3"
  },
  "language_info": {
   "codemirror_mode": {
    "name": "ipython",
    "version": 3
   },
   "file_extension": ".py",
   "mimetype": "text/x-python",
   "name": "python",
   "nbconvert_exporter": "python",
   "pygments_lexer": "ipython3",
   "version": "3.7.4"
  }
 },
 "nbformat": 4,
 "nbformat_minor": 2
}
